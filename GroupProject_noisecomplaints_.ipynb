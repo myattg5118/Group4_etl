{
  "nbformat": 4,
  "nbformat_minor": 0,
  "metadata": {
    "colab": {
      "provenance": []
    },
    "kernelspec": {
      "name": "python3",
      "display_name": "Python 3"
    },
    "language_info": {
      "name": "python"
    }
  },
  "cells": [
    {
      "cell_type": "code",
      "source": [
        "!pip install pandas\n",
        "!pip install sodapy"
      ],
      "metadata": {
        "colab": {
          "base_uri": "https://localhost:8080/"
        },
        "id": "_zrwXSEKNTxI",
        "outputId": "4db27b3e-101e-44ce-b273-07a834c54eca"
      },
      "execution_count": null,
      "outputs": [
        {
          "output_type": "stream",
          "name": "stdout",
          "text": [
            "Requirement already satisfied: pandas in /usr/local/lib/python3.10/dist-packages (2.2.2)\n",
            "Requirement already satisfied: numpy>=1.22.4 in /usr/local/lib/python3.10/dist-packages (from pandas) (1.26.4)\n",
            "Requirement already satisfied: python-dateutil>=2.8.2 in /usr/local/lib/python3.10/dist-packages (from pandas) (2.8.2)\n",
            "Requirement already satisfied: pytz>=2020.1 in /usr/local/lib/python3.10/dist-packages (from pandas) (2024.2)\n",
            "Requirement already satisfied: tzdata>=2022.7 in /usr/local/lib/python3.10/dist-packages (from pandas) (2024.2)\n",
            "Requirement already satisfied: six>=1.5 in /usr/local/lib/python3.10/dist-packages (from python-dateutil>=2.8.2->pandas) (1.16.0)\n",
            "Collecting sodapy\n",
            "  Downloading sodapy-2.2.0-py2.py3-none-any.whl.metadata (15 kB)\n",
            "Requirement already satisfied: requests>=2.28.1 in /usr/local/lib/python3.10/dist-packages (from sodapy) (2.32.3)\n",
            "Requirement already satisfied: charset-normalizer<4,>=2 in /usr/local/lib/python3.10/dist-packages (from requests>=2.28.1->sodapy) (3.4.0)\n",
            "Requirement already satisfied: idna<4,>=2.5 in /usr/local/lib/python3.10/dist-packages (from requests>=2.28.1->sodapy) (3.10)\n",
            "Requirement already satisfied: urllib3<3,>=1.21.1 in /usr/local/lib/python3.10/dist-packages (from requests>=2.28.1->sodapy) (2.2.3)\n",
            "Requirement already satisfied: certifi>=2017.4.17 in /usr/local/lib/python3.10/dist-packages (from requests>=2.28.1->sodapy) (2024.8.30)\n",
            "Downloading sodapy-2.2.0-py2.py3-none-any.whl (15 kB)\n",
            "Installing collected packages: sodapy\n",
            "Successfully installed sodapy-2.2.0\n"
          ]
        }
      ]
    },
    {
      "cell_type": "code",
      "source": [
        "from sodapy import Socrata\n",
        "import pandas as pd\n",
        "import time"
      ],
      "metadata": {
        "id": "0BWWbL7V6an2"
      },
      "execution_count": null,
      "outputs": []
    },
    {
      "cell_type": "code",
      "source": [
        "# Initialize Socrata client\n",
        "client = Socrata(\"data.cityofnewyork.us\", \"YBLReD9Df7AMythxsFDNtXxZa\", timeout=60)\n",
        "dataset_id = \"p5f6-bkga\"\n",
        "params = { # set the parameters and using where to set the limit\n",
        "    \"select\": \"created_date, borough, agency, agency_name, complaint_type, descriptor, location_type, incident_zip, city, status\",\n",
        "    \"where\": \"complaint_type='Noise - Residential' AND created_date >= '2022-01-01T00:00:00'\",\n",
        "    \"limit\": 5000,\n",
        "}\n",
        "record_count = 100000"
      ],
      "metadata": {
        "id": "kvqG_gYt6d4B"
      },
      "execution_count": null,
      "outputs": []
    },
    {
      "cell_type": "code",
      "source": [
        "from concurrent.futures import ThreadPoolExecutor\n",
        "from tenacity import retry, stop_after_attempt, wait_fixed"
      ],
      "metadata": {
        "id": "Jg-zNgH_9Q9U"
      },
      "execution_count": null,
      "outputs": []
    },
    {
      "cell_type": "code",
      "source": [
        "@retry(stop=stop_after_attempt(5), wait=wait_fixed(5)) ## retry funtion to keep in loop and divide it by the chunk\n",
        "def fetch_chunk(offset):\n",
        "    return client.get(dataset_id, offset=offset, **params)\n",
        "\n",
        "# Fetch data with retries\n",
        "results, failed_offsets = [], []\n",
        "for offset in range(0, record_count, params[\"limit\"]):\n",
        "    try:\n",
        "        results.extend(fetch_chunk(offset))\n",
        "    except Exception:\n",
        "        failed_offsets.append(offset)\n",
        "\n",
        "# Retry failed chunks\n",
        "for offset in failed_offsets:\n",
        "    try:\n",
        "        results.extend(fetch_chunk(offset))\n",
        "    except Exception:\n",
        "        pass"
      ],
      "metadata": {
        "id": "N9pPY50AMK4G"
      },
      "execution_count": null,
      "outputs": []
    },
    {
      "cell_type": "code",
      "source": [
        "# Save results to CSV\n",
        "pd.DataFrame.from_records(results).to_csv(\"noise_complaints.csv\", index=False)"
      ],
      "metadata": {
        "id": "nCvmqNX48tsj"
      },
      "execution_count": null,
      "outputs": []
    }
  ]
}